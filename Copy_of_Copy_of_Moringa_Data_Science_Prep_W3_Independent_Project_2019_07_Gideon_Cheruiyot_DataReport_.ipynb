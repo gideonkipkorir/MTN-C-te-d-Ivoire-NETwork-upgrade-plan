{
  "nbformat": 4,
  "nbformat_minor": 0,
  "metadata": {
    "colab": {
      "name": "Copy of Copy of Moringa_Data_Science_Prep_W3_Independent_Project_2019_07_Gideon_Cheruiyot_DataReport..ipynb",
      "provenance": [],
      "collapsed_sections": [],
      "include_colab_link": true
    },
    "kernelspec": {
      "name": "python3",
      "display_name": "Python 3"
    }
  },
  "cells": [
    {
      "cell_type": "markdown",
      "metadata": {
        "id": "view-in-github",
        "colab_type": "text"
      },
      "source": [
        "<a href=\"https://colab.research.google.com/github/pkor725/MTN-C-te-d-Ivoire-NETwork-upgrade-plan/blob/master/Copy_of_Copy_of_Moringa_Data_Science_Prep_W3_Independent_Project_2019_07_Gideon_Cheruiyot_DataReport_.ipynb\" target=\"_parent\"><img src=\"https://colab.research.google.com/assets/colab-badge.svg\" alt=\"Open In Colab\"/></a>"
      ]
    },
    {
      "cell_type": "code",
      "metadata": {
        "id": "_xttJAUZlOL5",
        "colab_type": "code",
        "colab": {}
      },
      "source": [
        "import pandas as pd\n",
        "import numpy as np"
      ],
      "execution_count": 0,
      "outputs": []
    },
    {
      "cell_type": "code",
      "metadata": {
        "id": "0ajl-G72qZpQ",
        "colab_type": "code",
        "outputId": "6af1f6fd-4728-4ac0-8df7-2e38de860c65",
        "colab": {
          "base_uri": "https://localhost:8080/",
          "height": 191
        }
      },
      "source": [
        "\n",
        "dt = pd.read_csv('cells_geo.csv', delimiter = ';')\n",
        "dt.head()\n",
        "\n",
        "     \n"
      ],
      "execution_count": 0,
      "outputs": [
        {
          "output_type": "execute_result",
          "data": {
            "text/html": [
              "<div>\n",
              "<style scoped>\n",
              "    .dataframe tbody tr th:only-of-type {\n",
              "        vertical-align: middle;\n",
              "    }\n",
              "\n",
              "    .dataframe tbody tr th {\n",
              "        vertical-align: top;\n",
              "    }\n",
              "\n",
              "    .dataframe thead th {\n",
              "        text-align: right;\n",
              "    }\n",
              "</style>\n",
              "<table border=\"1\" class=\"dataframe\">\n",
              "  <thead>\n",
              "    <tr style=\"text-align: right;\">\n",
              "      <th></th>\n",
              "      <th>Unnamed: 0</th>\n",
              "      <th>VILLES</th>\n",
              "      <th>STATUS</th>\n",
              "      <th>LOCALISATION</th>\n",
              "      <th>DECOUPZONE</th>\n",
              "      <th>ZONENAME</th>\n",
              "      <th>LONGITUDE</th>\n",
              "      <th>LATITUDE</th>\n",
              "      <th>REGION</th>\n",
              "      <th>AREA</th>\n",
              "      <th>CELL_ID</th>\n",
              "      <th>SITE_CODE</th>\n",
              "    </tr>\n",
              "  </thead>\n",
              "  <tbody>\n",
              "    <tr>\n",
              "      <th>0</th>\n",
              "      <td>0</td>\n",
              "      <td>ADJAME</td>\n",
              "      <td>In Service</td>\n",
              "      <td>ABIDJAN</td>\n",
              "      <td>\"Abidjan_EST</td>\n",
              "      <td>AGBANNEW</td>\n",
              "      <td>-4.000667</td>\n",
              "      <td>5.368194</td>\n",
              "      <td>LAGUNE</td>\n",
              "      <td>NaN</td>\n",
              "      <td>fbb2e75af3</td>\n",
              "      <td>0bb492ef17</td>\n",
              "    </tr>\n",
              "    <tr>\n",
              "      <th>1</th>\n",
              "      <td>1</td>\n",
              "      <td>ADJAME</td>\n",
              "      <td>In Service</td>\n",
              "      <td>ABIDJAN</td>\n",
              "      <td>\"Abidjan_EST</td>\n",
              "      <td>AGBANNEW</td>\n",
              "      <td>-4.000667</td>\n",
              "      <td>5.368194</td>\n",
              "      <td>LAGUNE</td>\n",
              "      <td>NaN</td>\n",
              "      <td>1502501d78</td>\n",
              "      <td>0bb492ef17</td>\n",
              "    </tr>\n",
              "    <tr>\n",
              "      <th>2</th>\n",
              "      <td>2</td>\n",
              "      <td>ADJAME</td>\n",
              "      <td>In Service</td>\n",
              "      <td>ABIDJAN</td>\n",
              "      <td>\"Abidjan_EST</td>\n",
              "      <td>AGBANNEW</td>\n",
              "      <td>-4.000667</td>\n",
              "      <td>5.368194</td>\n",
              "      <td>LAGUNE</td>\n",
              "      <td>NaN</td>\n",
              "      <td>0c2e182a0c</td>\n",
              "      <td>0bb492ef17</td>\n",
              "    </tr>\n",
              "    <tr>\n",
              "      <th>3</th>\n",
              "      <td>3</td>\n",
              "      <td>ASSINIE</td>\n",
              "      <td>In Service</td>\n",
              "      <td>INTERIEUR</td>\n",
              "      <td>Grand-EST</td>\n",
              "      <td>ASSINIE\"</td>\n",
              "      <td>-3.488467</td>\n",
              "      <td>5.158761</td>\n",
              "      <td>SUD COMOE</td>\n",
              "      <td>NaN</td>\n",
              "      <td>69bdfc69fd</td>\n",
              "      <td>8a1e6ce31f</td>\n",
              "    </tr>\n",
              "    <tr>\n",
              "      <th>4</th>\n",
              "      <td>4</td>\n",
              "      <td>ASSINIE</td>\n",
              "      <td>In Service</td>\n",
              "      <td>INTERIEUR</td>\n",
              "      <td>Grand-EST</td>\n",
              "      <td>ASSINIE\"</td>\n",
              "      <td>-3.488467</td>\n",
              "      <td>5.158761</td>\n",
              "      <td>SUD COMOE</td>\n",
              "      <td>NaN</td>\n",
              "      <td>7a1029d2ab</td>\n",
              "      <td>8a1e6ce31f</td>\n",
              "    </tr>\n",
              "  </tbody>\n",
              "</table>\n",
              "</div>"
            ],
            "text/plain": [
              "   Unnamed: 0   VILLES      STATUS  ... AREA     CELL_ID   SITE_CODE\n",
              "0           0   ADJAME  In Service  ...  NaN  fbb2e75af3  0bb492ef17\n",
              "1           1   ADJAME  In Service  ...  NaN  1502501d78  0bb492ef17\n",
              "2           2   ADJAME  In Service  ...  NaN  0c2e182a0c  0bb492ef17\n",
              "3           3  ASSINIE  In Service  ...  NaN  69bdfc69fd  8a1e6ce31f\n",
              "4           4  ASSINIE  In Service  ...  NaN  7a1029d2ab  8a1e6ce31f\n",
              "\n",
              "[5 rows x 12 columns]"
            ]
          },
          "metadata": {
            "tags": []
          },
          "execution_count": 2
        }
      ]
    },
    {
      "cell_type": "code",
      "metadata": {
        "id": "p7cjw5M9TzZn",
        "colab_type": "code",
        "outputId": "32a0d200-de70-4e00-bb8d-817427e5fffd",
        "colab": {
          "base_uri": "https://localhost:8080/",
          "height": 293
        }
      },
      "source": [
        "dt = pd.read_csv('cells_geo.csv', delimiter = ';')\n",
        "dt.head()\n",
        "#Renaming the sitecode as SITE_ID\n",
        "dt.rename(columns = {'SITE_CODE':'SITE_ID'}, inplace = True)\n",
        "\n",
        "#def function_1(val_1, value_11):\n",
        "  #return val_1\n",
        "   # before retuning the values, we convert the first values into a string because values in one column are strings\n",
        "#dt['col_a'] = dt.apply(lambda row: function_1(row['VILLES'], row['SITE_CODE']) axis=1)\n",
        "dt.info()"
      ],
      "execution_count": 0,
      "outputs": [
        {
          "output_type": "stream",
          "text": [
            "<class 'pandas.core.frame.DataFrame'>\n",
            "RangeIndex: 3974 entries, 0 to 3973\n",
            "Data columns (total 12 columns):\n",
            "Unnamed: 0      3974 non-null int64\n",
            "VILLES          3974 non-null object\n",
            "STATUS          3907 non-null object\n",
            "LOCALISATION    3974 non-null object\n",
            "DECOUPZONE      3974 non-null object\n",
            "ZONENAME        3968 non-null object\n",
            "LONGITUDE       3974 non-null float64\n",
            "LATITUDE        3974 non-null float64\n",
            "REGION          3974 non-null object\n",
            "AREA            3951 non-null object\n",
            "CELL_ID         3974 non-null object\n",
            "SITE_ID         3974 non-null object\n",
            "dtypes: float64(2), int64(1), object(9)\n",
            "memory usage: 372.7+ KB\n"
          ],
          "name": "stdout"
        }
      ]
    },
    {
      "cell_type": "code",
      "metadata": {
        "id": "2xOcRiLO9DRw",
        "colab_type": "code",
        "colab": {}
      },
      "source": [
        ""
      ],
      "execution_count": 0,
      "outputs": []
    },
    {
      "cell_type": "code",
      "metadata": {
        "id": "u7kS8Uykns9f",
        "colab_type": "code",
        "outputId": "e1bf5407-41f1-4795-a4de-e8a37c4d3386",
        "colab": {
          "base_uri": "https://localhost:8080/",
          "height": 390
        }
      },
      "source": [
        "#loading Telecom Dataset\n",
        "\n",
        "dt1 = pd.read_csv('Telcom_dataset.csv')\n",
        "dt1 = pd.DataFrame(dt1)\n",
        "\n",
        "# second data set\n",
        "\n",
        "dt2 = pd.read_csv('Telcom_dataset2.csv')\n",
        "dt2 = pd.DataFrame(dt2)\n",
        "\n",
        "# Third  data set\n",
        "\n",
        "dt3 = pd.read_csv('Telcom_dataset3.csv')\n",
        "dt3 = pd.DataFrame(dt3)\n",
        "\n",
        "# Joining the three datasets into one dataset\n",
        " \n",
        "Frames = (dt1, dt2, dt3)\n",
        "dt_all = pd.concat(Frames, ignore_index = True)\n",
        "dt_all.head()\n",
        "#Removing rows with duplicates.\n",
        "\n",
        "dt_all = dt_all.drop_duplicates()\n",
        "dt_all\n",
        "\n",
        "#joining the Geo dataset with the telecom dataset to obtain cities\n",
        "dt_all1 = pd.merge(dt_all, dt, on = 'SITE_ID', how = 'inner')\n",
        "dt_all1.head()\n",
        "\n",
        "\n",
        "\n"
      ],
      "execution_count": 0,
      "outputs": [
        {
          "output_type": "execute_result",
          "data": {
            "text/html": [
              "<div>\n",
              "<style scoped>\n",
              "    .dataframe tbody tr th:only-of-type {\n",
              "        vertical-align: middle;\n",
              "    }\n",
              "\n",
              "    .dataframe tbody tr th {\n",
              "        vertical-align: top;\n",
              "    }\n",
              "\n",
              "    .dataframe thead th {\n",
              "        text-align: right;\n",
              "    }\n",
              "</style>\n",
              "<table border=\"1\" class=\"dataframe\">\n",
              "  <thead>\n",
              "    <tr style=\"text-align: right;\">\n",
              "      <th></th>\n",
              "      <th>PRODUCT</th>\n",
              "      <th>VALUE</th>\n",
              "      <th>DATE_TIME</th>\n",
              "      <th>CELL_ON_SITE</th>\n",
              "      <th>DW_A_NUMBER</th>\n",
              "      <th>DW_B_NUMBER</th>\n",
              "      <th>COUNTRY_A</th>\n",
              "      <th>COUNTRY_B</th>\n",
              "      <th>CELL_ID_x</th>\n",
              "      <th>SITE_ID</th>\n",
              "      <th>Unnamed: 0</th>\n",
              "      <th>VILLES</th>\n",
              "      <th>STATUS</th>\n",
              "      <th>LOCALISATION</th>\n",
              "      <th>DECOUPZONE</th>\n",
              "      <th>ZONENAME</th>\n",
              "      <th>LONGITUDE</th>\n",
              "      <th>LATITUDE</th>\n",
              "      <th>REGION</th>\n",
              "      <th>AREA</th>\n",
              "      <th>CELL_ID_y</th>\n",
              "    </tr>\n",
              "  </thead>\n",
              "  <tbody>\n",
              "    <tr>\n",
              "      <th>0</th>\n",
              "      <td>Voice</td>\n",
              "      <td>2</td>\n",
              "      <td>00:21.0</td>\n",
              "      <td>0</td>\n",
              "      <td>f06b54f2580d490</td>\n",
              "      <td>245e7644b33c363</td>\n",
              "      <td>19e2e</td>\n",
              "      <td>19e2e</td>\n",
              "      <td>5139351fad</td>\n",
              "      <td>1113359465</td>\n",
              "      <td>956</td>\n",
              "      <td>BOUAFLE</td>\n",
              "      <td>In Service</td>\n",
              "      <td>INTERIEUR</td>\n",
              "      <td>Grand-NORD</td>\n",
              "      <td>ZONE A - Grand-NORD</td>\n",
              "      <td>-5.750028</td>\n",
              "      <td>6.985778</td>\n",
              "      <td>MARAHOUE</td>\n",
              "      <td>NORTH WEST</td>\n",
              "      <td>8cdff2a0a2</td>\n",
              "    </tr>\n",
              "    <tr>\n",
              "      <th>1</th>\n",
              "      <td>Voice</td>\n",
              "      <td>2</td>\n",
              "      <td>00:21.0</td>\n",
              "      <td>0</td>\n",
              "      <td>f06b54f2580d490</td>\n",
              "      <td>245e7644b33c363</td>\n",
              "      <td>19e2e</td>\n",
              "      <td>19e2e</td>\n",
              "      <td>5139351fad</td>\n",
              "      <td>1113359465</td>\n",
              "      <td>957</td>\n",
              "      <td>BOUAFLE</td>\n",
              "      <td>In Service</td>\n",
              "      <td>INTERIEUR</td>\n",
              "      <td>Grand-NORD</td>\n",
              "      <td>ZONE A - Grand-NORD</td>\n",
              "      <td>-5.750028</td>\n",
              "      <td>6.985778</td>\n",
              "      <td>MARAHOUE</td>\n",
              "      <td>NORTH WEST</td>\n",
              "      <td>a902c9a91a</td>\n",
              "    </tr>\n",
              "    <tr>\n",
              "      <th>2</th>\n",
              "      <td>Voice</td>\n",
              "      <td>2</td>\n",
              "      <td>00:21.0</td>\n",
              "      <td>0</td>\n",
              "      <td>f06b54f2580d490</td>\n",
              "      <td>245e7644b33c363</td>\n",
              "      <td>19e2e</td>\n",
              "      <td>19e2e</td>\n",
              "      <td>5139351fad</td>\n",
              "      <td>1113359465</td>\n",
              "      <td>958</td>\n",
              "      <td>BOUAFLE</td>\n",
              "      <td>In Service</td>\n",
              "      <td>INTERIEUR</td>\n",
              "      <td>Grand-NORD</td>\n",
              "      <td>ZONE A - Grand-NORD</td>\n",
              "      <td>-5.750028</td>\n",
              "      <td>6.985778</td>\n",
              "      <td>MARAHOUE</td>\n",
              "      <td>NORTH WEST</td>\n",
              "      <td>36cd8d4d2f</td>\n",
              "    </tr>\n",
              "    <tr>\n",
              "      <th>3</th>\n",
              "      <td>Voice</td>\n",
              "      <td>40</td>\n",
              "      <td>00:22.0</td>\n",
              "      <td>0</td>\n",
              "      <td>002b06898605b3b</td>\n",
              "      <td>a5cc83245351838</td>\n",
              "      <td>19e2e</td>\n",
              "      <td>19e2e</td>\n",
              "      <td>5139351fad</td>\n",
              "      <td>1113359465</td>\n",
              "      <td>956</td>\n",
              "      <td>BOUAFLE</td>\n",
              "      <td>In Service</td>\n",
              "      <td>INTERIEUR</td>\n",
              "      <td>Grand-NORD</td>\n",
              "      <td>ZONE A - Grand-NORD</td>\n",
              "      <td>-5.750028</td>\n",
              "      <td>6.985778</td>\n",
              "      <td>MARAHOUE</td>\n",
              "      <td>NORTH WEST</td>\n",
              "      <td>8cdff2a0a2</td>\n",
              "    </tr>\n",
              "    <tr>\n",
              "      <th>4</th>\n",
              "      <td>Voice</td>\n",
              "      <td>40</td>\n",
              "      <td>00:22.0</td>\n",
              "      <td>0</td>\n",
              "      <td>002b06898605b3b</td>\n",
              "      <td>a5cc83245351838</td>\n",
              "      <td>19e2e</td>\n",
              "      <td>19e2e</td>\n",
              "      <td>5139351fad</td>\n",
              "      <td>1113359465</td>\n",
              "      <td>957</td>\n",
              "      <td>BOUAFLE</td>\n",
              "      <td>In Service</td>\n",
              "      <td>INTERIEUR</td>\n",
              "      <td>Grand-NORD</td>\n",
              "      <td>ZONE A - Grand-NORD</td>\n",
              "      <td>-5.750028</td>\n",
              "      <td>6.985778</td>\n",
              "      <td>MARAHOUE</td>\n",
              "      <td>NORTH WEST</td>\n",
              "      <td>a902c9a91a</td>\n",
              "    </tr>\n",
              "  </tbody>\n",
              "</table>\n",
              "</div>"
            ],
            "text/plain": [
              "  PRODUCT  VALUE DATE_TIME  ...    REGION        AREA   CELL_ID_y\n",
              "0   Voice      2   00:21.0  ...  MARAHOUE  NORTH WEST  8cdff2a0a2\n",
              "1   Voice      2   00:21.0  ...  MARAHOUE  NORTH WEST  a902c9a91a\n",
              "2   Voice      2   00:21.0  ...  MARAHOUE  NORTH WEST  36cd8d4d2f\n",
              "3   Voice     40   00:22.0  ...  MARAHOUE  NORTH WEST  8cdff2a0a2\n",
              "4   Voice     40   00:22.0  ...  MARAHOUE  NORTH WEST  a902c9a91a\n",
              "\n",
              "[5 rows x 21 columns]"
            ]
          },
          "metadata": {
            "tags": []
          },
          "execution_count": 17
        }
      ]
    },
    {
      "cell_type": "code",
      "metadata": {
        "id": "yeJfBWxMRNao",
        "colab_type": "code",
        "outputId": "79ec5695-59d6-4b86-ef8c-a57d6549db3e",
        "colab": {
          "base_uri": "https://localhost:8080/",
          "height": 212
        }
      },
      "source": [
        ""
      ],
      "execution_count": 0,
      "outputs": [
        {
          "output_type": "execute_result",
          "data": {
            "text/plain": [
              "0         2\n",
              "1         2\n",
              "2         2\n",
              "3        40\n",
              "4        40\n",
              "         ..\n",
              "50083    17\n",
              "50084    17\n",
              "50085     0\n",
              "50086     0\n",
              "50087     0\n",
              "Name: VALUE, Length: 49147, dtype: int64"
            ]
          },
          "metadata": {
            "tags": []
          },
          "execution_count": 67
        }
      ]
    },
    {
      "cell_type": "code",
      "metadata": {
        "id": "ZwFClECa8vTV",
        "colab_type": "code",
        "outputId": "987f3c6f-60da-4add-86db-fcdb51fe0ee3",
        "colab": {
          "base_uri": "https://localhost:8080/",
          "height": 98
        }
      },
      "source": [
        "# Deleting row with missing values\n",
        "\n",
        "dt_all2 = dt_all1.dropna()\n",
        "\n",
        "#Dropping  columns not needed, 'CELL_ON_SITE', 'COUNTRY_A',\t'COUNTRY_B'\t,\n",
        "\n",
        "dt_all2.drop (columns = ['CELL_ON_SITE', 'COUNTRY_A','COUNTRY_B', 'Unnamed: 0','STATUS', 'LOCALISATION', 'DECOUPZONE', 'ZONENAME', 'LONGITUDE',\t'LATITUDE',\t'REGION',\t'AREA',\t'CELL_ID_y'], inplace = True)\n"
      ],
      "execution_count": 0,
      "outputs": [
        {
          "output_type": "stream",
          "text": [
            "/usr/local/lib/python3.6/dist-packages/pandas/core/frame.py:4117: SettingWithCopyWarning: \n",
            "A value is trying to be set on a copy of a slice from a DataFrame\n",
            "\n",
            "See the caveats in the documentation: http://pandas.pydata.org/pandas-docs/stable/user_guide/indexing.html#returning-a-view-versus-a-copy\n",
            "  errors=errors,\n"
          ],
          "name": "stderr"
        }
      ]
    },
    {
      "cell_type": "code",
      "metadata": {
        "id": "tYEdqIaVtmfe",
        "colab_type": "code",
        "outputId": "fe3d0cb4-67af-47ae-d2dd-4e273d2b5c86",
        "colab": {
          "base_uri": "https://localhost:8080/",
          "height": 212
        }
      },
      "source": [
        "#Finding the most geo site with most active users\n",
        "\n",
        "dt_all2.groupby(['VILLES'])['SITE_ID'].count().sort_values (ascending = False).head(10)\n",
        "\n",
        "#Ranking the top 10 cities with most numnber of active users\n",
        "\n",
        "\n"
      ],
      "execution_count": 0,
      "outputs": [
        {
          "output_type": "execute_result",
          "data": {
            "text/plain": [
              "VILLES\n",
              "YOPOUGON        8375\n",
              "ABOBO           5922\n",
              "COCODY          3716\n",
              "ADJAME          2537\n",
              "KOUMASSI        2275\n",
              "YAMOUSSOUKRO    2076\n",
              "MARCORY         2065\n",
              "TREICHVILLE     1922\n",
              "DALOA           1747\n",
              "ATTECOUBE       1569\n",
              "Name: SITE_ID, dtype: int64"
            ]
          },
          "metadata": {
            "tags": []
          },
          "execution_count": 81
        }
      ]
    },
    {
      "cell_type": "code",
      "metadata": {
        "id": "HDVzZPpfhUAq",
        "colab_type": "code",
        "outputId": "a4ef42fe-4e73-4723-af90-b781d7c36e74",
        "colab": {
          "base_uri": "https://localhost:8080/",
          "height": 212
        }
      },
      "source": [
        "# To find out the most valuable Cities to the company and ranking the top 10\n",
        "\n",
        "dt_all2.groupby(['VILLES'])['VALUE'].sum().sort_values (ascending=False).head(10)\n",
        "\n",
        "\n",
        "\n"
      ],
      "execution_count": 0,
      "outputs": [
        {
          "output_type": "execute_result",
          "data": {
            "text/plain": [
              "VILLES\n",
              "YOPOUGON        200456\n",
              "COCODY          184674\n",
              "ABOBO           119086\n",
              "KOUMASSI         71356\n",
              "TREICHVILLE      62949\n",
              "ADJAME           60617\n",
              "MARCORY          59684\n",
              "YAMOUSSOUKRO     45090\n",
              "SAN-PEDRO        44137\n",
              "PORT-BOUET       37368\n",
              "Name: VALUE, dtype: int64"
            ]
          },
          "metadata": {
            "tags": []
          },
          "execution_count": 85
        }
      ]
    },
    {
      "cell_type": "code",
      "metadata": {
        "id": "w09Cl0fYjyyO",
        "colab_type": "code",
        "outputId": "163cdfae-152f-4b9b-8422-f2f87def21ae",
        "colab": {
          "base_uri": "https://localhost:8080/",
          "height": 82
        }
      },
      "source": [
        "# To find out the most valuable product for MTN\n",
        "\n",
        "dt_all2.groupby(['PRODUCT'])['VALUE'].sum().sort_values( ascending=False)\n"
      ],
      "execution_count": 0,
      "outputs": [
        {
          "output_type": "execute_result",
          "data": {
            "text/plain": [
              "PRODUCT\n",
              "Voice    1155949\n",
              "sms       225892\n",
              "Name: VALUE, dtype: int64"
            ]
          },
          "metadata": {
            "tags": []
          },
          "execution_count": 86
        }
      ]
    },
    {
      "cell_type": "code",
      "metadata": {
        "id": "lfFkoK69yHZ0",
        "colab_type": "code",
        "outputId": "3f7b8482-bff2-4eb2-d988-77ab6cd5dd49",
        "colab": {
          "base_uri": "https://localhost:8080/",
          "height": 228
        }
      },
      "source": [
        "# To find out the most valuable product by geo-location\n",
        "dt_all2.groupby(['VILLES', 'PRODUCT'])['VALUE'].sum()\n",
        "\n",
        "\n",
        "\n"
      ],
      "execution_count": 0,
      "outputs": [
        {
          "output_type": "execute_result",
          "data": {
            "text/plain": [
              "VILLES       PRODUCT\n",
              "ABENGOUROU   Voice       6933\n",
              "             sms         1650\n",
              "ABOBO        Voice      92357\n",
              "             sms        26729\n",
              "ABOISSO      Voice       1608\n",
              "                        ...  \n",
              "ZON-HOUNIEN  Voice        363\n",
              "ZOUKOUGBEU   Voice        564\n",
              "             sms          150\n",
              "ZUENOULA     Voice       3546\n",
              "             sms          300\n",
              "Name: VALUE, Length: 597, dtype: int64"
            ]
          },
          "metadata": {
            "tags": []
          },
          "execution_count": 96
        }
      ]
    },
    {
      "cell_type": "code",
      "metadata": {
        "id": "KDvQdT8o0W7I",
        "colab_type": "code",
        "colab": {}
      },
      "source": [
        ""
      ],
      "execution_count": 0,
      "outputs": []
    }
  ]
}